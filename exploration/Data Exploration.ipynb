{
 "metadata": {
  "name": "",
  "signature": "sha256:4a52dd80bc6f4759f2b1525e691b43e42343a7312180a4f73d9224a79bd2781c"
 },
 "nbformat": 3,
 "nbformat_minor": 0,
 "worksheets": [
  {
   "cells": [
    {
     "cell_type": "markdown",
     "metadata": {},
     "source": [
      "Start by reading data from the Preferences table in the boardgamegeek database:"
     ]
    },
    {
     "cell_type": "code",
     "collapsed": false,
     "input": [
      "import pymysql as mdb\n",
      "import numpy as np\n",
      "import pandas as pd\n",
      "\n",
      "def connect_to_MySQL():\n",
      "    '''Define connection to the MySQL database, boardgamegeek'''\n",
      "    path_getdata='/Users/athena/Insight/Boardgame_Project/getdata/'\n",
      "    f=open(path_getdata+'mysql_password.txt','r')\n",
      "    mysqlpass=f.read().split('\\n')\n",
      "    f.close()\n",
      "    con = mdb.connect('localhost', mysqlpass[0], mysqlpass[1], 'boardgamegeek',charset='utf8')\n",
      "    return con\n",
      "\n",
      "con=connect_to_MySQL()"
     ],
     "language": "python",
     "metadata": {},
     "outputs": []
    },
    {
     "cell_type": "markdown",
     "metadata": {},
     "source": [
      "The first thing I want to look at is a histogram of how many games are rated by individual users."
     ]
    },
    {
     "cell_type": "code",
     "collapsed": false,
     "input": [
      "num_ratings=pd.read_sql('SELECT DISTINCT USER_NAME, COUNT(USER_RATING) FROM Preferences GROUP BY USER_NAME;',con)"
     ],
     "language": "python",
     "metadata": {},
     "outputs": [],
     "prompt_number": 2
    },
    {
     "cell_type": "code",
     "collapsed": false,
     "input": [],
     "language": "python",
     "metadata": {},
     "outputs": []
    },
    {
     "cell_type": "code",
     "collapsed": false,
     "input": [
      "num_ratings.head()"
     ],
     "language": "python",
     "metadata": {},
     "outputs": [
      {
       "html": [
        "<div style=\"max-height:1000px;max-width:1500px;overflow:auto;\">\n",
        "<table border=\"1\" class=\"dataframe\">\n",
        "  <thead>\n",
        "    <tr style=\"text-align: right;\">\n",
        "      <th></th>\n",
        "      <th>USER_NAME</th>\n",
        "      <th>COUNT(USER_RATING)</th>\n",
        "    </tr>\n",
        "  </thead>\n",
        "  <tbody>\n",
        "    <tr>\n",
        "      <th>0</th>\n",
        "      <td>          beastvol</td>\n",
        "      <td>  9</td>\n",
        "    </tr>\n",
        "    <tr>\n",
        "      <th>1</th>\n",
        "      <td>          Fu_Koios</td>\n",
        "      <td>  1</td>\n",
        "    </tr>\n",
        "    <tr>\n",
        "      <th>2</th>\n",
        "      <td>           mycroft</td>\n",
        "      <td> 14</td>\n",
        "    </tr>\n",
        "    <tr>\n",
        "      <th>3</th>\n",
        "      <td>               woh</td>\n",
        "      <td>  5</td>\n",
        "    </tr>\n",
        "    <tr>\n",
        "      <th>4</th>\n",
        "      <td> (mostly) harmless</td>\n",
        "      <td>  1</td>\n",
        "    </tr>\n",
        "  </tbody>\n",
        "</table>\n",
        "</div>"
       ],
       "metadata": {},
       "output_type": "pyout",
       "prompt_number": 71,
       "text": [
        "           USER_NAME  COUNT(USER_RATING)\n",
        "0           beastvol                   9\n",
        "1           Fu_Koios                   1\n",
        "2            mycroft                  14\n",
        "3                woh                   5\n",
        "4  (mostly) harmless                   1"
       ]
      }
     ],
     "prompt_number": 71
    },
    {
     "cell_type": "code",
     "collapsed": false,
     "input": [
      "test=num_ratings.set_index('USER_NAME')"
     ],
     "language": "python",
     "metadata": {},
     "outputs": [],
     "prompt_number": 20
    },
    {
     "cell_type": "code",
     "collapsed": false,
     "input": [
      "num_ratings.ix[:,0].apply(strip())"
     ],
     "language": "python",
     "metadata": {},
     "outputs": [
      {
       "ename": "NameError",
       "evalue": "name 'strip' is not defined",
       "output_type": "pyerr",
       "traceback": [
        "\u001b[0;31m---------------------------------------------------------------------------\u001b[0m\n\u001b[0;31mNameError\u001b[0m                                 Traceback (most recent call last)",
        "\u001b[0;32m<ipython-input-85-b1f121ff9a4a>\u001b[0m in \u001b[0;36m<module>\u001b[0;34m()\u001b[0m\n\u001b[0;32m----> 1\u001b[0;31m \u001b[0mnum_ratings\u001b[0m\u001b[0;34m.\u001b[0m\u001b[0mix\u001b[0m\u001b[0;34m[\u001b[0m\u001b[0;34m:\u001b[0m\u001b[0;34m,\u001b[0m\u001b[0;36m0\u001b[0m\u001b[0;34m]\u001b[0m\u001b[0;34m.\u001b[0m\u001b[0mapply\u001b[0m\u001b[0;34m(\u001b[0m\u001b[0mstrip\u001b[0m\u001b[0;34m(\u001b[0m\u001b[0;34m)\u001b[0m\u001b[0;34m)\u001b[0m\u001b[0;34m\u001b[0m\u001b[0m\n\u001b[0m",
        "\u001b[0;31mNameError\u001b[0m: name 'strip' is not defined"
       ]
      }
     ],
     "prompt_number": 85
    },
    {
     "cell_type": "code",
     "collapsed": false,
     "input": [
      "num_ratings.apply(strip,axis=0)"
     ],
     "language": "python",
     "metadata": {},
     "outputs": [
      {
       "ename": "NameError",
       "evalue": "name 'strip' is not defined",
       "output_type": "pyerr",
       "traceback": [
        "\u001b[0;31m---------------------------------------------------------------------------\u001b[0m\n\u001b[0;31mNameError\u001b[0m                                 Traceback (most recent call last)",
        "\u001b[0;32m<ipython-input-91-48a097b300dd>\u001b[0m in \u001b[0;36m<module>\u001b[0;34m()\u001b[0m\n\u001b[0;32m----> 1\u001b[0;31m \u001b[0mnum_ratings\u001b[0m\u001b[0;34m.\u001b[0m\u001b[0mapply\u001b[0m\u001b[0;34m(\u001b[0m\u001b[0mstrip\u001b[0m\u001b[0;34m,\u001b[0m\u001b[0maxis\u001b[0m\u001b[0;34m=\u001b[0m\u001b[0;36m0\u001b[0m\u001b[0;34m)\u001b[0m\u001b[0;34m\u001b[0m\u001b[0m\n\u001b[0m",
        "\u001b[0;31mNameError\u001b[0m: name 'strip' is not defined"
       ]
      }
     ],
     "prompt_number": 91
    },
    {
     "cell_type": "code",
     "collapsed": false,
     "input": [
      "num_ratings.max()"
     ],
     "language": "python",
     "metadata": {},
     "outputs": [
      {
       "metadata": {},
       "output_type": "pyout",
       "prompt_number": 69,
       "text": [
        "USER_NAME             \u00c6leksandr \u00der\u00e6\u00f0\n",
        "COUNT(USER_RATING)              8247\n",
        "dtype: object"
       ]
      }
     ],
     "prompt_number": 69
    },
    {
     "cell_type": "code",
     "collapsed": false,
     "input": [
      "test.ix[[' \u00c6leksandr \u00der\u00e6\u00f0']]"
     ],
     "language": "python",
     "metadata": {},
     "outputs": [
      {
       "html": [
        "<div style=\"max-height:1000px;max-width:1500px;overflow:auto;\">\n",
        "<table border=\"1\" class=\"dataframe\">\n",
        "  <thead>\n",
        "    <tr style=\"text-align: right;\">\n",
        "      <th></th>\n",
        "      <th>COUNT(USER_RATING)</th>\n",
        "    </tr>\n",
        "  </thead>\n",
        "  <tbody>\n",
        "    <tr>\n",
        "      <th> \u00c6leksandr \u00der\u00e6\u00f0</th>\n",
        "      <td>NaN</td>\n",
        "    </tr>\n",
        "  </tbody>\n",
        "</table>\n",
        "</div>"
       ],
       "metadata": {},
       "output_type": "pyout",
       "prompt_number": 70,
       "text": [
        "                 COUNT(USER_RATING)\n",
        " \u00c6leksandr \u00der\u00e6\u00f0                 NaN"
       ]
      }
     ],
     "prompt_number": 70
    },
    {
     "cell_type": "code",
     "collapsed": false,
     "input": [
      "num_ratings.plot(kind='bar',x='USER_NAME',y='COUNT(USER_RATING)')"
     ],
     "language": "python",
     "metadata": {},
     "outputs": []
    },
    {
     "cell_type": "markdown",
     "metadata": {},
     "source": [
      "The next thing is to take two individual users and compare their preferences:"
     ]
    },
    {
     "cell_type": "code",
     "collapsed": false,
     "input": [
      "preferences = pd.read_sql('SELECT * from Preferences WHERE USER_NAME=\"jackcres\" or USER_NAME = \"FuManchu\";',con)"
     ],
     "language": "python",
     "metadata": {},
     "outputs": [],
     "prompt_number": 3
    },
    {
     "cell_type": "code",
     "collapsed": false,
     "input": [
      "pref=preferences.ix[:,['USER_NAME','GAME_NAME','USER_RATING']]"
     ],
     "language": "python",
     "metadata": {},
     "outputs": [],
     "prompt_number": 4
    },
    {
     "cell_type": "code",
     "collapsed": false,
     "input": [
      "awesome=pd.pivot_table(preferences, values='USER_RATING', index=['GAME_NAME','GAME_ID'],columns='USER_NAME')"
     ],
     "language": "python",
     "metadata": {},
     "outputs": [],
     "prompt_number": 5
    },
    {
     "cell_type": "code",
     "collapsed": false,
     "input": [
      "awesome.head()"
     ],
     "language": "python",
     "metadata": {},
     "outputs": [
      {
       "html": [
        "<div style=\"max-height:1000px;max-width:1500px;overflow:auto;\">\n",
        "<table border=\"1\" class=\"dataframe\">\n",
        "  <thead>\n",
        "    <tr style=\"text-align: right;\">\n",
        "      <th></th>\n",
        "      <th>USER_NAME</th>\n",
        "      <th>FuManchu</th>\n",
        "      <th>jackcres</th>\n",
        "    </tr>\n",
        "    <tr>\n",
        "      <th>GAME_NAME</th>\n",
        "      <th>GAME_ID</th>\n",
        "      <th></th>\n",
        "      <th></th>\n",
        "    </tr>\n",
        "  </thead>\n",
        "  <tbody>\n",
        "    <tr>\n",
        "      <th>10 Days in Africa</th>\n",
        "      <th>7865 </th>\n",
        "      <td> NaN</td>\n",
        "      <td>  6</td>\n",
        "    </tr>\n",
        "    <tr>\n",
        "      <th>1805: Sea of Glory</th>\n",
        "      <th>23685</th>\n",
        "      <td> NaN</td>\n",
        "      <td>  9</td>\n",
        "    </tr>\n",
        "    <tr>\n",
        "      <th>1830: Railways &amp; Robber Barons</th>\n",
        "      <th>421  </th>\n",
        "      <td> 9.0</td>\n",
        "      <td>NaN</td>\n",
        "    </tr>\n",
        "    <tr>\n",
        "      <th>1960: The Making of the President</th>\n",
        "      <th>27708</th>\n",
        "      <td> 8.5</td>\n",
        "      <td>  7</td>\n",
        "    </tr>\n",
        "    <tr>\n",
        "      <th>221B Baker Street: The Master Detective Game</th>\n",
        "      <th>1275 </th>\n",
        "      <td> NaN</td>\n",
        "      <td>  3</td>\n",
        "    </tr>\n",
        "  </tbody>\n",
        "</table>\n",
        "</div>"
       ],
       "metadata": {},
       "output_type": "pyout",
       "prompt_number": 8,
       "text": [
        "USER_NAME                                             FuManchu  jackcres\n",
        "GAME_NAME                                    GAME_ID                    \n",
        "10 Days in Africa                            7865          NaN         6\n",
        "1805: Sea of Glory                           23685         NaN         9\n",
        "1830: Railways & Robber Barons               421           9.0       NaN\n",
        "1960: The Making of the President            27708         8.5         7\n",
        "221B Baker Street: The Master Detective Game 1275          NaN         3"
       ]
      }
     ],
     "prompt_number": 8
    },
    {
     "cell_type": "code",
     "collapsed": false,
     "input": [
      "awesome.plot(kind='scatter',x='FuManchu',y='jackcres')"
     ],
     "language": "python",
     "metadata": {},
     "outputs": [
      {
       "metadata": {},
       "output_type": "pyout",
       "prompt_number": 9,
       "text": [
        "<matplotlib.axes.AxesSubplot at 0x109ff0590>"
       ]
      },
      {
       "metadata": {},
       "output_type": "display_data",
       "png": "[encoded data removed]",
       "text": [
        "<matplotlib.figure.Figure at 0x10a010910>"
       ]
      }
     ],
     "prompt_number": 9
    },
    {
     "cell_type": "code",
     "collapsed": false,
     "input": [
      "help(pd)"
     ],
     "language": "python",
     "metadata": {},
     "outputs": [
      {
       "output_type": "stream",
       "stream": "stdout",
       "text": [
        "Help on package pandas:\n",
        "\n",
        "NAME\n",
        "    pandas\n",
        "\n",
        "FILE\n",
        "    /Users/Shared/anaconda/lib/python2.7/site-packages/pandas/__init__.py\n",
        "\n",
        "DESCRIPTION\n",
        "    pandas - a powerful data analysis and manipulation library for Python\n",
        "    =====================================================================\n",
        "    \n",
        "    See http://pandas.sourceforge.net for full documentation. Otherwise, see the\n",
        "    docstrings of the various objects in the pandas namespace:\n",
        "    \n",
        "    Series\n",
        "    DataFrame\n",
        "    Panel\n",
        "    Index\n",
        "    DatetimeIndex\n",
        "    HDFStore\n",
        "    bdate_range\n",
        "    date_range\n",
        "    read_csv\n",
        "    read_fwf\n",
        "    read_table\n",
        "    ols\n",
        "\n",
        "PACKAGE CONTENTS\n",
        "    _sparse\n",
        "    _testing\n",
        "    algos\n",
        "    compat (package)\n",
        "    computation (package)\n",
        "    core (package)\n",
        "    hashtable\n",
        "    index\n",
        "    info\n",
        "    io (package)\n",
        "    json\n",
        "    lib\n",
        "    msgpack\n",
        "    parser\n",
        "    rpy (package)\n",
        "    sandbox (package)\n",
        "    sparse (package)\n",
        "    stats (package)\n",
        "    tests (package)\n",
        "    tools (package)\n",
        "    tseries (package)\n",
        "    tslib\n",
        "    util (package)\n",
        "    version\n",
        "\n",
        "SUBMODULES\n",
        "    datetools\n",
        "    offsets\n",
        "\n",
        "DATA\n",
        "    IndexSlice = <pandas.core.indexing._IndexSlice object>\n",
        "    NaT = NaT\n",
        "    __docformat__ = 'restructuredtext'\n",
        "    __version__ = '0.14.1'\n",
        "    describe_option = <pandas.core.config.CallableDynamicDoc object>\n",
        "    get_option = <pandas.core.config.CallableDynamicDoc object>\n",
        "    options = <pandas.core.config.DictWrapper object>\n",
        "    plot_params = {'xaxis.compat': False}\n",
        "    reset_option = <pandas.core.config.CallableDynamicDoc object>\n",
        "    set_option = <pandas.core.config.CallableDynamicDoc object>\n",
        "\n",
        "VERSION\n",
        "    0.14.1\n",
        "\n",
        "\n"
       ]
      }
     ],
     "prompt_number": 92
    },
    {
     "cell_type": "code",
     "collapsed": false,
     "input": [],
     "language": "python",
     "metadata": {},
     "outputs": []
    }
   ],
   "metadata": {}
  }
 ]
}